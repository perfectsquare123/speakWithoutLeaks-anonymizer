{
 "cells": [
  {
   "cell_type": "code",
   "execution_count": 2,
   "id": "5385ebd8",
   "metadata": {},
   "outputs": [
    {
     "name": "stdout",
     "output_type": "stream",
     "text": [
      "Collecting faker\n",
      "  Using cached faker-37.1.0-py3-none-any.whl (1.9 MB)\n",
      "Requirement already satisfied: tzdata in c:\\users\\cihui\\documents\\github\\speakwithoutleaks-data-level-privacy-preserving-pipeline-for-llm\\.venv\\lib\\site-packages (from faker) (2025.2)\n",
      "Installing collected packages: faker\n",
      "Successfully installed faker-37.1.0\n",
      "Note: you may need to restart the kernel to use updated packages.\n"
     ]
    },
    {
     "name": "stderr",
     "output_type": "stream",
     "text": [
      "\n",
      "[notice] A new release of pip available: 22.3.1 -> 25.1.1\n",
      "[notice] To update, run: python.exe -m pip install --upgrade pip\n"
     ]
    }
   ],
   "source": [
    "%pip install faker"
   ]
  },
  {
   "cell_type": "code",
   "execution_count": 9,
   "id": "a85d7e8b",
   "metadata": {},
   "outputs": [],
   "source": [
    "from generate_synthesis_dataset import generate_dataset, save_dataset_csv\n",
    "\n",
    "# options: hex, base64, NULL\n",
    "dataset = generate_dataset(num_samples=10000)\n",
    "save_dataset_csv(dataset, \"synthetic_enc_dataset.csv\")"
   ]
  },
  {
   "cell_type": "code",
   "execution_count": null,
   "id": "71284f41",
   "metadata": {},
   "outputs": [],
   "source": []
  }
 ],
 "metadata": {
  "kernelspec": {
   "display_name": ".venv",
   "language": "python",
   "name": "python3"
  },
  "language_info": {
   "codemirror_mode": {
    "name": "ipython",
    "version": 3
   },
   "file_extension": ".py",
   "mimetype": "text/x-python",
   "name": "python",
   "nbconvert_exporter": "python",
   "pygments_lexer": "ipython3",
   "version": "3.11.1"
  }
 },
 "nbformat": 4,
 "nbformat_minor": 5
}
